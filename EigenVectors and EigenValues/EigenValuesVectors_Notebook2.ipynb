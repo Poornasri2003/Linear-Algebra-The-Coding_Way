{
 "cells": [
  {
   "cell_type": "markdown",
   "id": "1e47c458-4167-4713-9047-cc4ff01adf06",
   "metadata": {},
   "source": [
    "# Identifying Linear Independence of Eigenvectors"
   ]
  },
  {
   "cell_type": "markdown",
   "id": "6c44ef2f-8d16-497e-ab2d-1c5f313eab33",
   "metadata": {},
   "source": [
    "## **Problem:**\n",
    "How can we effectively calculate the eigenvalues and eigenvectors of a matrix  Moreover, how do we verify whether eigenvectors corresponding to distinct eigenvalues are independent?"
   ]
  },
  {
   "cell_type": "markdown",
   "id": "f10dd677-328d-4b43-b1a5-92d0353c4a48",
   "metadata": {},
   "source": [
    "### **Approach:**"
   ]
  },
  {
   "cell_type": "code",
   "execution_count": 2,
   "id": "7a973337-d51b-4918-a0bc-112a8cf7ed93",
   "metadata": {},
   "outputs": [],
   "source": [
    "#import header files\n",
    "import numpy as np\n",
    "import sympy\n"
   ]
  },
  {
   "cell_type": "markdown",
   "id": "c733545d-01b4-4277-a035-8e6e75614f9c",
   "metadata": {},
   "source": [
    "### **Define Matrix A:**\n",
    "Matrix A represents the linear transformation that we want to analyze. It's a square matrix with dimensions corresponding to the number of dimensions in the space we're working with. In this case, it's a 3x3 matrix."
   ]
  },
  {
   "cell_type": "code",
   "execution_count": 3,
   "id": "b1946053-c194-49d4-bdcd-a3c6e562fea1",
   "metadata": {},
   "outputs": [],
   "source": [
    "A = np.array([[2, 1, 0],\n",
    "              [1, 3, -1],\n",
    "              [0, -1, 4]])"
   ]
  },
  {
   "cell_type": "markdown",
   "id": "0d65a46e-ebc0-49c0-a593-a6165d39ecc1",
   "metadata": {},
   "source": [
    "## **Calculating Eigenvalues and Eigenvectors**\n",
    "**Eigenvalues and eigenvectors** are fundamental concepts in linear algebra, providing insights into how matrices transform vectors in a vector space.\n",
    "### **Eigenvalues**\n",
    "**Eigenvalues** are scalar values that represent the scaling factor of the eigenvectors when the transformation represented by the matrix A is applied. We compute eigenvalues using the characteristic equation of the matrix A.\n",
    "### **Eigenvectors**\n",
    "**Eigenvectors** are vectors that remain in the same direction after the transformation represented by matrix A. We compute eigenvectors corresponding to each eigenvalue.\n"
   ]
  },
  {
   "cell_type": "code",
   "execution_count": 11,
   "id": "e509cb09-5776-4106-a7ad-7c2e4ef8ef68",
   "metadata": {},
   "outputs": [
    {
     "name": "stdout",
     "output_type": "stream",
     "text": [
      "[[ 2  1  0]\n",
      " [ 1  3 -1]\n",
      " [ 0 -1  4]]\n",
      "[1.26794919 3.         4.73205081]\n",
      "[[-0.78867513 -0.57735027 -0.21132487]\n",
      " [ 0.57735027 -0.57735027 -0.57735027]\n",
      " [ 0.21132487 -0.57735027  0.78867513]]\n"
     ]
    }
   ],
   "source": [
    "# Calculate eigenvalues and eigenvectors using NumPy\n",
    "eigenvalues, eigenvectors = np.linalg.eig(A)\n",
    "print(A)\n",
    "print(eigenvalues)\n",
    "print(eigenvectors)"
   ]
  },
  {
   "cell_type": "markdown",
   "id": "9f95b4dc-79d1-4c0a-94f1-8b89cb88a1d6",
   "metadata": {},
   "source": [
    "### **Checking for Distinct Eigenvalues**\n",
    " Distinct eigenvalues are crucial as they indicate how many linearly independent eigenvectors we have. Linear independence ensures that the eigenvectors represent different directions of transformation."
   ]
  },
  {
   "cell_type": "code",
   "execution_count": 14,
   "id": "45caa14a-3841-47db-9beb-917f810b1f61",
   "metadata": {},
   "outputs": [
    {
     "name": "stdout",
     "output_type": "stream",
     "text": [
      "Eigenvalues are distinct.\n"
     ]
    }
   ],
   "source": [
    "# Check if eigenvalues are distinct\n",
    "if len(np.unique(eigenvalues)) != len(eigenvalues):\n",
    "    print(\"Eigenvalues are not distinct.\")\n",
    "else:\n",
    "    print(\"Eigenvalues are distinct.\")"
   ]
  },
  {
   "cell_type": "markdown",
   "id": "be620f48-8c44-4a1e-a7c5-930ed74c9c1f",
   "metadata": {},
   "source": [
    "### **Forming Eigenvectors Matrix**\n",
    "If the eigenvalues are distinct, each eigenvalue will correspond to one or more eigenvectors. We organize these eigenvectors into a matrix where each column represents an eigenvector corresponding to a distinct eigenvalue.\n"
   ]
  },
  {
   "cell_type": "code",
   "execution_count": 15,
   "id": "65a23484-9035-45df-98e8-219a5892fc7d",
   "metadata": {},
   "outputs": [
    {
     "name": "stdout",
     "output_type": "stream",
     "text": [
      "[[-0.78867513  0.57735027  0.21132487]\n",
      " [-0.57735027 -0.57735027 -0.57735027]\n",
      " [-0.21132487 -0.57735027  0.78867513]]\n"
     ]
    }
   ],
   "source": [
    "# matrix with eigenvectors corresponding to distinct eigenvalues\n",
    "eigenvectors_matrix = np.column_stack(eigenvectors)\n",
    "print(eigenvectors_matrix)"
   ]
  },
  {
   "cell_type": "markdown",
   "id": "3ca20673-60a3-43d0-8051-de7a4f242afc",
   "metadata": {},
   "source": [
    "### **Converting to RREF**\n",
    "**Row echelon form (RREF)** standardizes the representation of matrices, making it easier to analyze their properties. By converting the eigenvectors matrix to RREF, we can determine whether the eigenvectors corresponding to distinct eigenvalues are linearly independent."
   ]
  },
  {
   "cell_type": "code",
   "execution_count": 9,
   "id": "9aa8b1c2-7dc7-4b5d-9298-9a64fa111939",
   "metadata": {},
   "outputs": [
    {
     "name": "stdout",
     "output_type": "stream",
     "text": [
      "Matrix([[1, 0, 0], [0, 1, 0], [0, 0, 1]])\n",
      "(0, 1, 2)\n"
     ]
    }
   ],
   "source": [
    "# Convert matrix to RREF using SymPy\n",
    "rref_matrix, pivot_columns = sympy.Matrix(eigenvectors_matrix).rref()\n",
    "print(rref_matrix)\n",
    "print(pivot_columns)"
   ]
  },
  {
   "cell_type": "markdown",
   "id": "397396b7-162f-4c2d-9cdc-74c03887a1af",
   "metadata": {},
   "source": [
    "### **Verifying Independence**\n",
    "In RREF, if every column containing a leading entry (pivot) corresponds to a distinct eigenvalue, it indicates that the eigenvectors associated with those eigenvalues are linearly independent. This is because each pivot column represents a linearly independent eigenvector, and having distinct pivots implies distinct eigenvalues. Therefore, if there are as many pivot columns as there are distinct eigenvalues, the eigenvectors are linearly independent.\n"
   ]
  },
  {
   "cell_type": "code",
   "execution_count": 10,
   "id": "009ad3b9-b643-4b7d-a11c-317bce60a5ce",
   "metadata": {},
   "outputs": [
    {
     "name": "stdout",
     "output_type": "stream",
     "text": [
      "Eigenvectors corresponding to distinct eigenvalues are independent.\n"
     ]
    }
   ],
   "source": [
    "# Check if RREF has full rank\n",
    "if len(pivot_columns) == len(eigenvalues):\n",
    " print(\"Eigenvectors corresponding to distinct eigenvalues are independent.\")\n",
    "else:\n",
    " print(\"Eigenvectors corresponding to distinct eigenvalues are dependent.\")\n"
   ]
  },
  {
   "cell_type": "code",
   "execution_count": null,
   "id": "8fe60ec0-a8e7-41ff-b15a-c0048b28f003",
   "metadata": {},
   "outputs": [],
   "source": []
  }
 ],
 "metadata": {
  "kernelspec": {
   "display_name": "Python 3 (ipykernel)",
   "language": "python",
   "name": "python3"
  },
  "language_info": {
   "codemirror_mode": {
    "name": "ipython",
    "version": 3
   },
   "file_extension": ".py",
   "mimetype": "text/x-python",
   "name": "python",
   "nbconvert_exporter": "python",
   "pygments_lexer": "ipython3",
   "version": "3.11.7"
  }
 },
 "nbformat": 4,
 "nbformat_minor": 5
}
